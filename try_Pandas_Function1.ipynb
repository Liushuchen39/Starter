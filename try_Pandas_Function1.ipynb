{
 "cells": [
  {
   "cell_type": "code",
   "execution_count": 1,
   "id": "e1422d35",
   "metadata": {},
   "outputs": [],
   "source": [
    "import numpy as np\n",
    "import pandas as pd"
   ]
  },
  {
   "cell_type": "markdown",
   "id": "78b907c6",
   "metadata": {},
   "source": [
    "# Standard custom functions"
   ]
  },
  {
   "cell_type": "code",
   "execution_count": 6,
   "id": "7f1d94c9",
   "metadata": {},
   "outputs": [
    {
     "name": "stdout",
     "output_type": "stream",
     "text": [
      "10\n"
     ]
    }
   ],
   "source": [
    "def edu_add(x,y):\n",
    "    print(x + y)\n",
    "    \n",
    "edu_add(4,6)"
   ]
  },
  {
   "cell_type": "markdown",
   "id": "7640a06a",
   "metadata": {},
   "source": [
    "# Custom functions without formal parameters"
   ]
  },
  {
   "cell_type": "code",
   "execution_count": 11,
   "id": "472676d6",
   "metadata": {},
   "outputs": [
    {
     "name": "stdout",
     "output_type": "stream",
     "text": [
      "Serial dependence is cool!\n"
     ]
    }
   ],
   "source": [
    "def edu_print():\n",
    "    print(\"Serial dependence is cool!\")\n",
    "\n",
    "edu_print()"
   ]
  },
  {
   "cell_type": "markdown",
   "id": "0653281c",
   "metadata": {},
   "source": [
    "# Custom functions using default values"
   ]
  },
  {
   "cell_type": "markdown",
   "id": "0445e8e0",
   "metadata": {},
   "source": [
    "## use \"=\" to specify in the parameter list first"
   ]
  },
  {
   "cell_type": "code",
   "execution_count": 14,
   "id": "ff607f96",
   "metadata": {},
   "outputs": [
    {
     "name": "stdout",
     "output_type": "stream",
     "text": [
      " % % % % % %\n",
      " $ $ $ $ $ $ $ $ $\n"
     ]
    }
   ],
   "source": [
    "def edu_printSymbol(n,symbol = \" %\"):\n",
    "    for i in range(1,n+1):\n",
    "        print(symbol, end = \"\")\n",
    "    print()\n",
    "\n",
    "edu_printSymbol(6)\n",
    "\n",
    "edu_printSymbol(9,\" $\")"
   ]
  },
  {
   "cell_type": "markdown",
   "id": "535b7d70",
   "metadata": {},
   "source": [
    "# Custom functions with uncertain number of parameters"
   ]
  },
  {
   "cell_type": "markdown",
   "id": "10c520f1",
   "metadata": {},
   "source": [
    "## add \"*\" before the parameter"
   ]
  },
  {
   "cell_type": "code",
   "execution_count": 17,
   "id": "bda4cbea",
   "metadata": {},
   "outputs": [
    {
     "name": "stdout",
     "output_type": "stream",
     "text": [
      "Parameters are:\n",
      "1\n",
      "2\n",
      "3\n",
      "Parameters are:\n",
      "V\n",
      "i\n",
      "s\n",
      "i\n",
      "o\n",
      "n\n"
     ]
    }
   ],
   "source": [
    "def edu_main(*args):\n",
    "    print(\"Parameters are:\")\n",
    "    for arg in args:\n",
    "        print(arg)\n",
    "\n",
    "edu_main(1,2,3)\n",
    "\n",
    "edu_main(\"V\",\"i\",\"s\",\"i\",\"o\",\"n\")"
   ]
  },
  {
   "cell_type": "markdown",
   "id": "15d4a5cd",
   "metadata": {},
   "source": [
    "# Custom functions using lambda implicit functions"
   ]
  },
  {
   "cell_type": "markdown",
   "id": "493c8376",
   "metadata": {},
   "source": [
    "## implement a one-line statement and throw out of use custom function"
   ]
  },
  {
   "cell_type": "code",
   "execution_count": 20,
   "id": "1973b409",
   "metadata": {},
   "outputs": [
    {
     "data": {
      "text/plain": [
       "range(1, 10)"
      ]
     },
     "execution_count": 20,
     "metadata": {},
     "output_type": "execute_result"
    }
   ],
   "source": [
    "x = range(1,10)\n",
    "\n",
    "x"
   ]
  },
  {
   "cell_type": "code",
   "execution_count": 22,
   "id": "ea119346",
   "metadata": {},
   "outputs": [
    {
     "name": "stdout",
     "output_type": "stream",
     "text": [
      "0^3 = 1\n",
      "1^3 = 8\n",
      "2^3 = 27\n",
      "3^3 = 64\n",
      "4^3 = 125\n",
      "5^3 = 216\n",
      "6^3 = 343\n",
      "7^3 = 512\n",
      "8^3 = 729\n"
     ]
    }
   ],
   "source": [
    "# map: kind of projection\n",
    "y = map(lambda i: i**3, x)\n",
    "\n",
    "for i, value in enumerate(y):\n",
    "    print(\"{}^3 = {}\".forma(i,value))"
   ]
  }
 ],
 "metadata": {
  "kernelspec": {
   "display_name": "Python 3",
   "language": "python",
   "name": "python3"
  },
  "language_info": {
   "codemirror_mode": {
    "name": "ipython",
    "version": 3
   },
   "file_extension": ".py",
   "mimetype": "text/x-python",
   "name": "python",
   "nbconvert_exporter": "python",
   "pygments_lexer": "ipython3",
   "version": "3.8.8"
  }
 },
 "nbformat": 4,
 "nbformat_minor": 5
}
