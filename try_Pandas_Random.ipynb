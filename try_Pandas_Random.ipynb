{
 "cells": [
  {
   "cell_type": "code",
   "execution_count": 42,
   "id": "b795facd",
   "metadata": {},
   "outputs": [
    {
     "name": "stdout",
     "output_type": "stream",
     "text": [
      "random() :  0.15010349002072954\n",
      "random() :  0.7730632672183456\n"
     ]
    }
   ],
   "source": [
    "import random\n",
    "import pandas as pd\n",
    "import numpy as np\n",
    "\n",
    "print(\"random() : \", random.random())\n",
    " \n",
    "\n",
    "print(\"random() : \", random.random())"
   ]
  },
  {
   "cell_type": "code",
   "execution_count": 50,
   "id": "1a7ed3c3",
   "metadata": {},
   "outputs": [
    {
     "name": "stdout",
     "output_type": "stream",
     "text": [
      "0.9231149864207352\n",
      "0.7209460436415858\n",
      "0.09449484192285285\n",
      "0.005120918230179128\n",
      "0.6455648713698039\n",
      "0.1106822093969132\n",
      "0.7700406303090489\n",
      "0.992649477390642\n",
      "0.45647312011710706\n",
      "0.6086080391970093\n"
     ]
    }
   ],
   "source": [
    "for i in range(10):\n",
    "    print(random.random())"
   ]
  },
  {
   "cell_type": "code",
   "execution_count": 14,
   "id": "b75062c8",
   "metadata": {},
   "outputs": [
    {
     "name": "stdout",
     "output_type": "stream",
     "text": [
      "8\n"
     ]
    }
   ],
   "source": [
    "print( random.randint(1,10) ) "
   ]
  },
  {
   "cell_type": "code",
   "execution_count": 15,
   "id": "442bd042",
   "metadata": {},
   "outputs": [
    {
     "name": "stdout",
     "output_type": "stream",
     "text": [
      "4.55907765579251\n"
     ]
    }
   ],
   "source": [
    "print( random.uniform(1.1,5.4) ) "
   ]
  },
  {
   "cell_type": "code",
   "execution_count": 20,
   "id": "cf4ab99a",
   "metadata": {},
   "outputs": [
    {
     "name": "stdout",
     "output_type": "stream",
     "text": [
      "o\n"
     ]
    }
   ],
   "source": [
    "print( random.choice('abcdefghijklmnopqrstuvwxyz!@#$%^&*') ) "
   ]
  },
  {
   "cell_type": "code",
   "execution_count": 24,
   "id": "9c71b8a8",
   "metadata": {},
   "outputs": [
    {
     "name": "stdout",
     "output_type": "stream",
     "text": [
      "['s', 'k', 'd', 'n', 'f']\n"
     ]
    }
   ],
   "source": [
    "print( random.sample('zyxwvutsrqponmlkjihgfedcba', 5))"
   ]
  },
  {
   "cell_type": "code",
   "execution_count": 18,
   "id": "03e5daba",
   "metadata": {},
   "outputs": [
    {
     "name": "stdout",
     "output_type": "stream",
     "text": [
      "41\n"
     ]
    }
   ],
   "source": [
    "print( random.randrange(1,100,10) )"
   ]
  },
  {
   "cell_type": "markdown",
   "id": "d032a684",
   "metadata": {},
   "source": [
    "## shuffle"
   ]
  },
  {
   "cell_type": "code",
   "execution_count": 26,
   "id": "9d71e56b",
   "metadata": {},
   "outputs": [
    {
     "name": "stdout",
     "output_type": "stream",
     "text": [
      "[3, 1, 7, 6, 5]\n"
     ]
    }
   ],
   "source": [
    "a=[1,3,5,6,7]               \n",
    "random.shuffle(a)\n",
    "print(a)"
   ]
  },
  {
   "cell_type": "markdown",
   "id": "71f64636",
   "metadata": {},
   "source": [
    "## generate 8 characters in a-z, A-Z, 0-9"
   ]
  },
  {
   "cell_type": "code",
   "execution_count": 31,
   "id": "3068053b",
   "metadata": {},
   "outputs": [
    {
     "name": "stdout",
     "output_type": "stream",
     "text": [
      "IQMO4E0P\n"
     ]
    }
   ],
   "source": [
    "import string\n",
    "\n",
    "ran_str = ''.join(random.sample(string.ascii_letters + string.digits, 8))\n",
    "print(ran_str)"
   ]
  },
  {
   "cell_type": "code",
   "execution_count": 39,
   "id": "226d2c5b",
   "metadata": {},
   "outputs": [
    {
     "data": {
      "text/plain": [
       "range(0, 10)"
      ]
     },
     "execution_count": 39,
     "metadata": {},
     "output_type": "execute_result"
    }
   ],
   "source": [
    "range(0,10)"
   ]
  },
  {
   "cell_type": "markdown",
   "id": "2cb70132",
   "metadata": {},
   "source": [
    "# A guess game"
   ]
  },
  {
   "cell_type": "code",
   "execution_count": 55,
   "id": "3150c139",
   "metadata": {},
   "outputs": [
    {
     "name": "stdout",
     "output_type": "stream",
     "text": [
      "35\n",
      "Enter 0 for the correct answer!\n",
      "Range: (1, 50)\n",
      "Let's guess:20\n",
      "No, bigger!\n",
      "Plz enter a number in the range!\n",
      "Range: (20, 50)\n",
      "Let's guess:45\n",
      "No, smaller!\n",
      "Plz enter a number in the range!\n",
      "Range: (20, 45)\n",
      "Let's guess:34\n",
      "No, bigger!\n",
      "Plz enter a number in the range!\n",
      "Range: (34, 45)\n",
      "Let's guess:40\n",
      "No, smaller!\n",
      "Plz enter a number in the range!\n",
      "Range: (34, 40)\n",
      "Let's guess:36\n",
      "No, smaller!\n",
      "Plz enter a number in the range!\n",
      "Range: (34, 36)\n",
      "Let's guess:35\n",
      "Right!\n",
      "The answer is: 35\n",
      "Game over!\n"
     ]
    }
   ],
   "source": [
    "import random\n",
    "import pandas as pd\n",
    "import numpy as np\n",
    "\n",
    "\n",
    "num = random.randint(1,50)\n",
    "print(num) \n",
    "a = 1\n",
    "b = 50\n",
    "print(\"Enter 0 for the correct answer!\")\n",
    "print(\"Range:\",(a,b))\n",
    "user = int(input(\"Let's guess:\"))\n",
    "while(user!=0):\n",
    "    if user == num:\n",
    "        print(\"Right!\")\n",
    "        break\n",
    "        \n",
    "    if user > num and user < b:\n",
    "        print(\"No, smaller!\")\n",
    "        b = user\n",
    "    \n",
    "    if user < num and user > a:\n",
    "        print(\"No, bigger!\")\n",
    "        a = user\n",
    "        \n",
    "    else:\n",
    "        print(\"Plz enter a number in the range!\")\n",
    "        print(\"Range:\",(a,b))\n",
    "        user = int(input(\"Let's guess:\"))\n",
    "        \n",
    "print(\"The answer is:\",num)\n",
    "print(\"Game over!\")\n",
    "        "
   ]
  }
 ],
 "metadata": {
  "kernelspec": {
   "display_name": "Python 3",
   "language": "python",
   "name": "python3"
  },
  "language_info": {
   "codemirror_mode": {
    "name": "ipython",
    "version": 3
   },
   "file_extension": ".py",
   "mimetype": "text/x-python",
   "name": "python",
   "nbconvert_exporter": "python",
   "pygments_lexer": "ipython3",
   "version": "3.8.8"
  }
 },
 "nbformat": 4,
 "nbformat_minor": 5
}
