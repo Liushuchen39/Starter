{
 "cells": [
  {
   "cell_type": "code",
   "execution_count": 1,
   "id": "6e44ad15",
   "metadata": {},
   "outputs": [],
   "source": [
    "from __future__ import print_function\n",
    "import pandas as pd\n",
    "import numpy as np\n",
    "import matplotlib.pyplot as plt"
   ]
  },
  {
   "cell_type": "markdown",
   "id": "e87e997e",
   "metadata": {},
   "source": [
    "# plot data\n",
    "\n",
    "## Series"
   ]
  },
  {
   "cell_type": "code",
   "execution_count": 2,
   "id": "34bcb05e",
   "metadata": {},
   "outputs": [],
   "source": [
    "data = pd.Series(np.random.randn(1000), index=np.arange(1000))\n",
    "data = data.cumsum()"
   ]
  },
  {
   "cell_type": "code",
   "execution_count": 3,
   "id": "82299d21",
   "metadata": {},
   "outputs": [
    {
     "data": {
      "text/plain": [
       "0      0.982165\n",
       "1     -0.393299\n",
       "2     -0.119979\n",
       "3     -0.717416\n",
       "4     -0.265211\n",
       "         ...   \n",
       "995    4.268016\n",
       "996    5.573699\n",
       "997    5.449911\n",
       "998    7.185925\n",
       "999    6.276710\n",
       "Length: 1000, dtype: float64"
      ]
     },
     "execution_count": 3,
     "metadata": {},
     "output_type": "execute_result"
    }
   ],
   "source": [
    "data"
   ]
  },
  {
   "cell_type": "markdown",
   "id": "aa758b7b",
   "metadata": {},
   "source": [
    "## DataFrame"
   ]
  },
  {
   "cell_type": "code",
   "execution_count": 4,
   "id": "fbf97fdf",
   "metadata": {},
   "outputs": [],
   "source": [
    "data = pd.DataFrame(np.random.randn(1000, 4), index=np.arange(1000), columns=list(\"ABCD\"))\n",
    "data = data.cumsum()"
   ]
  },
  {
   "cell_type": "code",
   "execution_count": 5,
   "id": "842fba3c",
   "metadata": {},
   "outputs": [
    {
     "data": {
      "text/html": [
       "<div>\n",
       "<style scoped>\n",
       "    .dataframe tbody tr th:only-of-type {\n",
       "        vertical-align: middle;\n",
       "    }\n",
       "\n",
       "    .dataframe tbody tr th {\n",
       "        vertical-align: top;\n",
       "    }\n",
       "\n",
       "    .dataframe thead th {\n",
       "        text-align: right;\n",
       "    }\n",
       "</style>\n",
       "<table border=\"1\" class=\"dataframe\">\n",
       "  <thead>\n",
       "    <tr style=\"text-align: right;\">\n",
       "      <th></th>\n",
       "      <th>A</th>\n",
       "      <th>B</th>\n",
       "      <th>C</th>\n",
       "      <th>D</th>\n",
       "    </tr>\n",
       "  </thead>\n",
       "  <tbody>\n",
       "    <tr>\n",
       "      <th>0</th>\n",
       "      <td>0.589856</td>\n",
       "      <td>-0.057400</td>\n",
       "      <td>1.412163</td>\n",
       "      <td>-0.211873</td>\n",
       "    </tr>\n",
       "    <tr>\n",
       "      <th>1</th>\n",
       "      <td>-0.822900</td>\n",
       "      <td>0.144606</td>\n",
       "      <td>1.383306</td>\n",
       "      <td>0.700748</td>\n",
       "    </tr>\n",
       "    <tr>\n",
       "      <th>2</th>\n",
       "      <td>0.243746</td>\n",
       "      <td>2.311332</td>\n",
       "      <td>1.052726</td>\n",
       "      <td>0.853096</td>\n",
       "    </tr>\n",
       "    <tr>\n",
       "      <th>3</th>\n",
       "      <td>1.034193</td>\n",
       "      <td>1.912758</td>\n",
       "      <td>0.923032</td>\n",
       "      <td>1.186384</td>\n",
       "    </tr>\n",
       "    <tr>\n",
       "      <th>4</th>\n",
       "      <td>1.285285</td>\n",
       "      <td>2.384500</td>\n",
       "      <td>2.232007</td>\n",
       "      <td>1.446110</td>\n",
       "    </tr>\n",
       "    <tr>\n",
       "      <th>...</th>\n",
       "      <td>...</td>\n",
       "      <td>...</td>\n",
       "      <td>...</td>\n",
       "      <td>...</td>\n",
       "    </tr>\n",
       "    <tr>\n",
       "      <th>995</th>\n",
       "      <td>-43.776984</td>\n",
       "      <td>-3.706809</td>\n",
       "      <td>46.542552</td>\n",
       "      <td>-10.128742</td>\n",
       "    </tr>\n",
       "    <tr>\n",
       "      <th>996</th>\n",
       "      <td>-43.614925</td>\n",
       "      <td>-2.816280</td>\n",
       "      <td>45.839098</td>\n",
       "      <td>-10.330106</td>\n",
       "    </tr>\n",
       "    <tr>\n",
       "      <th>997</th>\n",
       "      <td>-44.035479</td>\n",
       "      <td>0.359153</td>\n",
       "      <td>46.115295</td>\n",
       "      <td>-9.719520</td>\n",
       "    </tr>\n",
       "    <tr>\n",
       "      <th>998</th>\n",
       "      <td>-45.729423</td>\n",
       "      <td>-0.200883</td>\n",
       "      <td>46.475606</td>\n",
       "      <td>-8.566449</td>\n",
       "    </tr>\n",
       "    <tr>\n",
       "      <th>999</th>\n",
       "      <td>-45.717633</td>\n",
       "      <td>0.678050</td>\n",
       "      <td>46.438063</td>\n",
       "      <td>-7.842601</td>\n",
       "    </tr>\n",
       "  </tbody>\n",
       "</table>\n",
       "<p>1000 rows × 4 columns</p>\n",
       "</div>"
      ],
      "text/plain": [
       "             A         B          C          D\n",
       "0     0.589856 -0.057400   1.412163  -0.211873\n",
       "1    -0.822900  0.144606   1.383306   0.700748\n",
       "2     0.243746  2.311332   1.052726   0.853096\n",
       "3     1.034193  1.912758   0.923032   1.186384\n",
       "4     1.285285  2.384500   2.232007   1.446110\n",
       "..         ...       ...        ...        ...\n",
       "995 -43.776984 -3.706809  46.542552 -10.128742\n",
       "996 -43.614925 -2.816280  45.839098 -10.330106\n",
       "997 -44.035479  0.359153  46.115295  -9.719520\n",
       "998 -45.729423 -0.200883  46.475606  -8.566449\n",
       "999 -45.717633  0.678050  46.438063  -7.842601\n",
       "\n",
       "[1000 rows x 4 columns]"
      ]
     },
     "execution_count": 5,
     "metadata": {},
     "output_type": "execute_result"
    }
   ],
   "source": [
    "data"
   ]
  },
  {
   "cell_type": "markdown",
   "id": "9ea801c5",
   "metadata": {},
   "source": [
    "## plot methods:\n",
    "### 'bar', 'hist', 'box', 'kde', 'area', scatter', hexbin', 'pie'"
   ]
  },
  {
   "cell_type": "code",
   "execution_count": 7,
   "id": "9ac51205",
   "metadata": {},
   "outputs": [
    {
     "data": {
      "image/png": "[encoded data removed]",
      "text/plain": [
       "<Figure size 432x288 with 1 Axes>"
      ]
     },
     "metadata": {
      "needs_background": "light"
     },
     "output_type": "display_data"
    }
   ],
   "source": [
    "ax = data.plot.scatter(x='A', y='B', color='DarkBlue', label=\"Cluster 1\")\n",
    "data.plot.scatter(x='A', y='C', color='LightGreen', label='Cluster 2', ax=ax)\n",
    "plt.show()"
   ]
  }
 ],
 "metadata": {
  "kernelspec": {
   "display_name": "Python 3",
   "language": "python",
   "name": "python3"
  },
  "language_info": {
   "codemirror_mode": {
    "name": "ipython",
    "version": 3
   },
   "file_extension": ".py",
   "mimetype": "text/x-python",
   "name": "python",
   "nbconvert_exporter": "python",
   "pygments_lexer": "ipython3",
   "version": "3.8.8"
  }
 },
 "nbformat": 4,
 "nbformat_minor": 5
}
