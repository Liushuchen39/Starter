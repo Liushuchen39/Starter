{
 "cells": [
  {
   "cell_type": "markdown",
   "id": "879e5575",
   "metadata": {},
   "source": [
    "# Python Module example(save them as example.py)"
   ]
  },
  {
   "cell_type": "code",
   "execution_count": 3,
   "id": "98d3a828",
   "metadata": {},
   "outputs": [],
   "source": [
    "def add(a, b):\n",
    "\n",
    "   result = a + b\n",
    "   print(\"This code got executed\")\n",
    "   return result\n",
    "\n"
   ]
  },
  {
   "cell_type": "code",
   "execution_count": 7,
   "id": "1b3eb784",
   "metadata": {},
   "outputs": [
    {
     "name": "stderr",
     "output_type": "stream",
     "text": [
      "[NbConvertApp] Converting notebook try_Pandas_Function2.ipynb to python\n",
      "[NbConvertApp] Writing 274 bytes to try_Pandas_Function2.py\n"
     ]
    }
   ],
   "source": [
    "try:\n",
    "    !jupyter nbconvert --to python try_Pandas_Function2.ipynb\n",
    "except:\n",
    "    pass\n"
   ]
  }
 ],
 "metadata": {
  "kernelspec": {
   "display_name": "Python 3",
   "language": "python",
   "name": "python3"
  },
  "language_info": {
   "codemirror_mode": {
    "name": "ipython",
    "version": 3
   },
   "file_extension": ".py",
   "mimetype": "text/x-python",
   "name": "python",
   "nbconvert_exporter": "python",
   "pygments_lexer": "ipython3",
   "version": "3.8.8"
  }
 },
 "nbformat": 4,
 "nbformat_minor": 5
}
